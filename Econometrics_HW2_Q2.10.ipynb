{
 "cells": [
  {
   "cell_type": "markdown",
   "metadata": {},
   "source": [
    "# Question 2.10"
   ]
  },
  {
   "cell_type": "markdown",
   "metadata": {},
   "source": [
    "## A) The econometric model rj - rf = alpha(j) + beta(j) * ( rm - rf) + e is a simple regression model as the equation represents a straight line which has a y- intercept and a slope component. Here, the y-intercept component is alpha which is the expected excess return and beta is a slope which is a risk factor and implies the effect of change in risk premium on returns."
   ]
  },
  {
   "cell_type": "markdown",
   "metadata": {},
   "source": [
    "## B) Here we are estimating the CAPM Model for each of the 6 firms and analyzing the estimated beta values"
   ]
  },
  {
   "cell_type": "code",
   "execution_count": 17,
   "metadata": {},
   "outputs": [],
   "source": [
    "#importing libraries\n",
    "\n",
    "import pandas as pd\n",
    "import numpy as np\n",
    "import statsmodels.api as sm\n",
    "import matplotlib.pyplot as plt\n",
    "%matplotlib inline"
   ]
  },
  {
   "cell_type": "code",
   "execution_count": 18,
   "metadata": {},
   "outputs": [],
   "source": [
    "#Checking current working directory\n",
    "\n",
    "import os\n",
    "os.chdir(\"C:\\\\Users\\\\nishc\\\\Downloads\")"
   ]
  },
  {
   "cell_type": "code",
   "execution_count": 19,
   "metadata": {},
   "outputs": [
    {
     "data": {
      "text/html": [
       "<div>\n",
       "<style scoped>\n",
       "    .dataframe tbody tr th:only-of-type {\n",
       "        vertical-align: middle;\n",
       "    }\n",
       "\n",
       "    .dataframe tbody tr th {\n",
       "        vertical-align: top;\n",
       "    }\n",
       "\n",
       "    .dataframe thead th {\n",
       "        text-align: right;\n",
       "    }\n",
       "</style>\n",
       "<table border=\"1\" class=\"dataframe\">\n",
       "  <thead>\n",
       "    <tr style=\"text-align: right;\">\n",
       "      <th></th>\n",
       "      <th>date</th>\n",
       "      <th>dis</th>\n",
       "      <th>ge</th>\n",
       "      <th>gm</th>\n",
       "      <th>ibm</th>\n",
       "      <th>msft</th>\n",
       "      <th>xom</th>\n",
       "      <th>mkt</th>\n",
       "      <th>riskfree</th>\n",
       "    </tr>\n",
       "  </thead>\n",
       "  <tbody>\n",
       "    <tr>\n",
       "      <th>0</th>\n",
       "      <td>19980130</td>\n",
       "      <td>0.080884</td>\n",
       "      <td>0.056218</td>\n",
       "      <td>-0.046296</td>\n",
       "      <td>-0.056153</td>\n",
       "      <td>0.154255</td>\n",
       "      <td>-0.030644</td>\n",
       "      <td>0.004529</td>\n",
       "      <td>0.004188</td>\n",
       "    </tr>\n",
       "    <tr>\n",
       "      <th>1</th>\n",
       "      <td>19980227</td>\n",
       "      <td>0.047368</td>\n",
       "      <td>0.003226</td>\n",
       "      <td>0.198490</td>\n",
       "      <td>0.059620</td>\n",
       "      <td>0.136154</td>\n",
       "      <td>0.081728</td>\n",
       "      <td>0.073230</td>\n",
       "      <td>0.004268</td>\n",
       "    </tr>\n",
       "    <tr>\n",
       "      <th>2</th>\n",
       "      <td>19980331</td>\n",
       "      <td>-0.046343</td>\n",
       "      <td>0.112379</td>\n",
       "      <td>-0.017226</td>\n",
       "      <td>-0.005386</td>\n",
       "      <td>0.056047</td>\n",
       "      <td>0.060784</td>\n",
       "      <td>0.051322</td>\n",
       "      <td>0.004358</td>\n",
       "    </tr>\n",
       "    <tr>\n",
       "      <th>3</th>\n",
       "      <td>19980430</td>\n",
       "      <td>0.168337</td>\n",
       "      <td>-0.011603</td>\n",
       "      <td>-0.005535</td>\n",
       "      <td>0.115523</td>\n",
       "      <td>0.006983</td>\n",
       "      <td>0.080407</td>\n",
       "      <td>0.010862</td>\n",
       "      <td>0.003940</td>\n",
       "    </tr>\n",
       "    <tr>\n",
       "      <th>4</th>\n",
       "      <td>19980529</td>\n",
       "      <td>-0.090818</td>\n",
       "      <td>-0.021277</td>\n",
       "      <td>0.074212</td>\n",
       "      <td>0.015922</td>\n",
       "      <td>-0.058946</td>\n",
       "      <td>-0.029461</td>\n",
       "      <td>-0.025755</td>\n",
       "      <td>0.003806</td>\n",
       "    </tr>\n",
       "  </tbody>\n",
       "</table>\n",
       "</div>"
      ],
      "text/plain": [
       "       date       dis        ge        gm       ibm      msft       xom  \\\n",
       "0  19980130  0.080884  0.056218 -0.046296 -0.056153  0.154255 -0.030644   \n",
       "1  19980227  0.047368  0.003226  0.198490  0.059620  0.136154  0.081728   \n",
       "2  19980331 -0.046343  0.112379 -0.017226 -0.005386  0.056047  0.060784   \n",
       "3  19980430  0.168337 -0.011603 -0.005535  0.115523  0.006983  0.080407   \n",
       "4  19980529 -0.090818 -0.021277  0.074212  0.015922 -0.058946 -0.029461   \n",
       "\n",
       "        mkt  riskfree  \n",
       "0  0.004529  0.004188  \n",
       "1  0.073230  0.004268  \n",
       "2  0.051322  0.004358  \n",
       "3  0.010862  0.003940  \n",
       "4 -0.025755  0.003806  "
      ]
     },
     "execution_count": 19,
     "metadata": {},
     "output_type": "execute_result"
    }
   ],
   "source": [
    "#Loading data set\n",
    "data= pd.read_stata(\"capm4.dta\")\n",
    "data.head()\n"
   ]
  },
  {
   "cell_type": "code",
   "execution_count": 20,
   "metadata": {},
   "outputs": [
    {
     "data": {
      "text/plain": [
       "date        0\n",
       "dis         0\n",
       "ge          0\n",
       "gm          0\n",
       "ibm         0\n",
       "msft        0\n",
       "xom         0\n",
       "mkt         0\n",
       "riskfree    0\n",
       "dtype: int64"
      ]
     },
     "execution_count": 20,
     "metadata": {},
     "output_type": "execute_result"
    }
   ],
   "source": [
    "#checking for NaN values in the Dataset\n",
    "data.isnull().sum()"
   ]
  },
  {
   "cell_type": "code",
   "execution_count": 21,
   "metadata": {},
   "outputs": [],
   "source": [
    "#Risk Premium for Market Portfolio\n",
    "\n",
    "RP_mkt= data[\"mkt\"]-data[\"riskfree\"]\n",
    "\n",
    "# Risk Premium for each Stocks\n",
    "RP_dis= data[\"dis\"]- data[\"riskfree\"]\n",
    "RP_ge= data[\"ge\"]- data[\"riskfree\"]\n",
    "RP_gm= data[\"gm\"]- data[\"riskfree\"]\n",
    "RP_ibm= data[\"ibm\"]- data[\"riskfree\"]\n",
    "RP_msft= data[\"msft\"]- data[\"riskfree\"]\n",
    "RP_xom= data[\"xom\"]- data[\"riskfree\"]\n"
   ]
  },
  {
   "cell_type": "code",
   "execution_count": 22,
   "metadata": {
    "scrolled": true
   },
   "outputs": [
    {
     "name": "stdout",
     "output_type": "stream",
     "text": [
      "                            OLS Regression Results                            \n",
      "==============================================================================\n",
      "Dep. Variable:                      y   R-squared:                       0.289\n",
      "Model:                            OLS   Adj. R-squared:                  0.283\n",
      "Method:                 Least Squares   F-statistic:                     52.74\n",
      "Date:                Sat, 07 Sep 2019   Prob (F-statistic):           3.11e-11\n",
      "Time:                        14:26:07   Log-Likelihood:                 167.72\n",
      "No. Observations:                 132   AIC:                            -331.4\n",
      "Df Residuals:                     130   BIC:                            -325.7\n",
      "Df Model:                           1                                         \n",
      "Covariance Type:            nonrobust                                         \n",
      "==============================================================================\n",
      "                 coef    std err          t      P>|t|      [0.025      0.975]\n",
      "------------------------------------------------------------------------------\n",
      "const         -0.0011      0.006     -0.193      0.847      -0.013       0.011\n",
      "0              0.8978      0.124      7.262      0.000       0.653       1.142\n",
      "==============================================================================\n",
      "Omnibus:                       15.249   Durbin-Watson:                   2.426\n",
      "Prob(Omnibus):                  0.000   Jarque-Bera (JB):               25.331\n",
      "Skew:                           0.546   Prob(JB):                     3.16e-06\n",
      "Kurtosis:                       4.847   Cond. No.                         20.8\n",
      "==============================================================================\n",
      "\n",
      "Warnings:\n",
      "[1] Standard Errors assume that the covariance matrix of the errors is correctly specified.\n"
     ]
    },
    {
     "name": "stderr",
     "output_type": "stream",
     "text": [
      "C:\\Users\\nishc\\AppData\\Local\\Continuum\\anaconda3\\lib\\site-packages\\numpy\\core\\fromnumeric.py:2389: FutureWarning: Method .ptp is deprecated and will be removed in a future version. Use numpy.ptp instead.\n",
      "  return ptp(axis=axis, out=out, **kwargs)\n"
     ]
    }
   ],
   "source": [
    "#CAPM Models\n",
    "\n",
    "\n",
    "\n",
    "x= sm.add_constant(RP_mkt)\n",
    "\n",
    "\n",
    "#CAPM Model for Disney\n",
    "\n",
    "model1= sm.OLS(RP_dis,x)\n",
    "result1=model1.fit()\n",
    "print(result1.summary())"
   ]
  },
  {
   "cell_type": "markdown",
   "metadata": {},
   "source": [
    "### The Beta value of Disney's Stock is 0.8978. Therefore, we can say that the stock is DEFENSIVE\n"
   ]
  },
  {
   "cell_type": "code",
   "execution_count": 23,
   "metadata": {
    "scrolled": true
   },
   "outputs": [
    {
     "name": "stdout",
     "output_type": "stream",
     "text": [
      "                            OLS Regression Results                            \n",
      "==============================================================================\n",
      "Dep. Variable:                      y   R-squared:                       0.389\n",
      "Model:                            OLS   Adj. R-squared:                  0.385\n",
      "Method:                 Least Squares   F-statistic:                     82.87\n",
      "Date:                Sat, 07 Sep 2019   Prob (F-statistic):           1.33e-15\n",
      "Time:                        14:26:07   Log-Likelihood:                 197.34\n",
      "No. Observations:                 132   AIC:                            -390.7\n",
      "Df Residuals:                     130   BIC:                            -384.9\n",
      "Df Model:                           1                                         \n",
      "Covariance Type:            nonrobust                                         \n",
      "==============================================================================\n",
      "                 coef    std err          t      P>|t|      [0.025      0.975]\n",
      "------------------------------------------------------------------------------\n",
      "const         -0.0012      0.005     -0.245      0.807      -0.011       0.008\n",
      "0              0.8993      0.099      9.104      0.000       0.704       1.095\n",
      "==============================================================================\n",
      "Omnibus:                        3.287   Durbin-Watson:                   2.239\n",
      "Prob(Omnibus):                  0.193   Jarque-Bera (JB):                2.872\n",
      "Skew:                           0.238   Prob(JB):                        0.238\n",
      "Kurtosis:                       3.544   Cond. No.                         20.8\n",
      "==============================================================================\n",
      "\n",
      "Warnings:\n",
      "[1] Standard Errors assume that the covariance matrix of the errors is correctly specified.\n"
     ]
    }
   ],
   "source": [
    "#CAPM Model for GE\n",
    "\n",
    "model2= sm.OLS(RP_ge,x)\n",
    "result2=model2.fit()\n",
    "print(result2.summary())"
   ]
  },
  {
   "cell_type": "markdown",
   "metadata": {},
   "source": [
    "### The Beta value of GE's Stock is 0.8993. Therefore, we can say that the stock is DEFENSIVE"
   ]
  },
  {
   "cell_type": "code",
   "execution_count": 24,
   "metadata": {},
   "outputs": [
    {
     "name": "stdout",
     "output_type": "stream",
     "text": [
      "                            OLS Regression Results                            \n",
      "==============================================================================\n",
      "Dep. Variable:                      y   R-squared:                       0.230\n",
      "Model:                            OLS   Adj. R-squared:                  0.224\n",
      "Method:                 Least Squares   F-statistic:                     38.91\n",
      "Date:                Sat, 07 Sep 2019   Prob (F-statistic):           5.77e-09\n",
      "Time:                        14:26:08   Log-Likelihood:                 102.76\n",
      "No. Observations:                 132   AIC:                            -201.5\n",
      "Df Residuals:                     130   BIC:                            -195.8\n",
      "Df Model:                           1                                         \n",
      "Covariance Type:            nonrobust                                         \n",
      "==============================================================================\n",
      "                 coef    std err          t      P>|t|      [0.025      0.975]\n",
      "------------------------------------------------------------------------------\n",
      "const         -0.0116      0.010     -1.185      0.238      -0.031       0.008\n",
      "0              1.2614      0.202      6.238      0.000       0.861       1.661\n",
      "==============================================================================\n",
      "Omnibus:                        4.443   Durbin-Watson:                   2.063\n",
      "Prob(Omnibus):                  0.108   Jarque-Bera (JB):                4.999\n",
      "Skew:                          -0.187   Prob(JB):                       0.0821\n",
      "Kurtosis:                       3.877   Cond. No.                         20.8\n",
      "==============================================================================\n",
      "\n",
      "Warnings:\n",
      "[1] Standard Errors assume that the covariance matrix of the errors is correctly specified.\n"
     ]
    }
   ],
   "source": [
    "#CAPM Model for GM\n",
    "\n",
    "model3= sm.OLS(RP_gm,x)\n",
    "result3=model3.fit()\n",
    "print(result3.summary())"
   ]
  },
  {
   "cell_type": "markdown",
   "metadata": {},
   "source": [
    "### The Beta value of GM's Stock is 1.2614. Therefore, we can say that the stock is AGGRESSIVE"
   ]
  },
  {
   "cell_type": "code",
   "execution_count": 25,
   "metadata": {},
   "outputs": [
    {
     "name": "stdout",
     "output_type": "stream",
     "text": [
      "                            OLS Regression Results                            \n",
      "==============================================================================\n",
      "Dep. Variable:                      y   R-squared:                       0.405\n",
      "Model:                            OLS   Adj. R-squared:                  0.400\n",
      "Method:                 Least Squares   F-statistic:                     88.32\n",
      "Date:                Sat, 07 Sep 2019   Prob (F-statistic):           2.52e-16\n",
      "Time:                        14:26:08   Log-Likelihood:                 164.76\n",
      "No. Observations:                 132   AIC:                            -325.5\n",
      "Df Residuals:                     130   BIC:                            -319.8\n",
      "Df Model:                           1                                         \n",
      "Covariance Type:            nonrobust                                         \n",
      "==============================================================================\n",
      "                 coef    std err          t      P>|t|      [0.025      0.975]\n",
      "------------------------------------------------------------------------------\n",
      "const          0.0059      0.006      0.961      0.339      -0.006       0.018\n",
      "0              1.1882      0.126      9.398      0.000       0.938       1.438\n",
      "==============================================================================\n",
      "Omnibus:                       19.729   Durbin-Watson:                   2.172\n",
      "Prob(Omnibus):                  0.000   Jarque-Bera (JB):               61.477\n",
      "Skew:                           0.439   Prob(JB):                     4.47e-14\n",
      "Kurtosis:                       6.226   Cond. No.                         20.8\n",
      "==============================================================================\n",
      "\n",
      "Warnings:\n",
      "[1] Standard Errors assume that the covariance matrix of the errors is correctly specified.\n"
     ]
    }
   ],
   "source": [
    "#CAPM Model for IBM\n",
    "\n",
    "model4= sm.OLS(RP_ibm,x)\n",
    "result4=model4.fit()\n",
    "print(result4.summary())"
   ]
  },
  {
   "cell_type": "markdown",
   "metadata": {},
   "source": [
    "### The Beta value of IBM's Stock is 1.1882. Therefore, we can say that the stock is AGGRESSIVE"
   ]
  },
  {
   "cell_type": "code",
   "execution_count": 26,
   "metadata": {},
   "outputs": [
    {
     "ename": "NameError",
     "evalue": "name 'result' is not defined",
     "output_type": "error",
     "traceback": [
      "\u001b[1;31m---------------------------------------------------------------------------\u001b[0m",
      "\u001b[1;31mNameError\u001b[0m                                 Traceback (most recent call last)",
      "\u001b[1;32m<ipython-input-26-08abe29001ef>\u001b[0m in \u001b[0;36m<module>\u001b[1;34m\u001b[0m\n\u001b[0;32m      3\u001b[0m \u001b[0mmodel5\u001b[0m\u001b[1;33m=\u001b[0m \u001b[0msm\u001b[0m\u001b[1;33m.\u001b[0m\u001b[0mOLS\u001b[0m\u001b[1;33m(\u001b[0m\u001b[0mRP_msft\u001b[0m\u001b[1;33m,\u001b[0m\u001b[0mx\u001b[0m\u001b[1;33m)\u001b[0m\u001b[1;33m\u001b[0m\u001b[1;33m\u001b[0m\u001b[0m\n\u001b[0;32m      4\u001b[0m \u001b[0mresult5\u001b[0m\u001b[1;33m=\u001b[0m\u001b[0mmodel5\u001b[0m\u001b[1;33m.\u001b[0m\u001b[0mfit\u001b[0m\u001b[1;33m(\u001b[0m\u001b[1;33m)\u001b[0m\u001b[1;33m\u001b[0m\u001b[1;33m\u001b[0m\u001b[0m\n\u001b[1;32m----> 5\u001b[1;33m \u001b[0mprint\u001b[0m\u001b[1;33m(\u001b[0m\u001b[0mresult\u001b[0m\u001b[1;33m.\u001b[0m\u001b[0msummary\u001b[0m\u001b[1;33m(\u001b[0m\u001b[1;33m)\u001b[0m\u001b[1;33m)\u001b[0m\u001b[1;33m\u001b[0m\u001b[1;33m\u001b[0m\u001b[0m\n\u001b[0m",
      "\u001b[1;31mNameError\u001b[0m: name 'result' is not defined"
     ]
    }
   ],
   "source": [
    "#CAPM Model for Microsoft\n",
    "\n",
    "model5= sm.OLS(RP_msft,x)\n",
    "result5=model5.fit()\n",
    "print(result.summary())"
   ]
  },
  {
   "cell_type": "markdown",
   "metadata": {},
   "source": [
    "### The Beta value of Microsoft's Stock is 1.3189. Therefore, we can say that the stock is AGGRESSIVE"
   ]
  },
  {
   "cell_type": "code",
   "execution_count": 27,
   "metadata": {},
   "outputs": [
    {
     "name": "stdout",
     "output_type": "stream",
     "text": [
      "                            OLS Regression Results                            \n",
      "==============================================================================\n",
      "Dep. Variable:                      y   R-squared:                       0.141\n",
      "Model:                            OLS   Adj. R-squared:                  0.134\n",
      "Method:                 Least Squares   F-statistic:                     21.29\n",
      "Date:                Sat, 07 Sep 2019   Prob (F-statistic):           9.33e-06\n",
      "Time:                        14:26:09   Log-Likelihood:                 210.05\n",
      "No. Observations:                 132   AIC:                            -416.1\n",
      "Df Residuals:                     130   BIC:                            -410.3\n",
      "Df Model:                           1                                         \n",
      "Covariance Type:            nonrobust                                         \n",
      "==============================================================================\n",
      "                 coef    std err          t      P>|t|      [0.025      0.975]\n",
      "------------------------------------------------------------------------------\n",
      "const          0.0079      0.004      1.823      0.071      -0.001       0.016\n",
      "0              0.4140      0.090      4.614      0.000       0.236       0.591\n",
      "==============================================================================\n",
      "Omnibus:                       22.128   Durbin-Watson:                   2.348\n",
      "Prob(Omnibus):                  0.000   Jarque-Bera (JB):               40.767\n",
      "Skew:                           0.747   Prob(JB):                     1.40e-09\n",
      "Kurtosis:                       5.276   Cond. No.                         20.8\n",
      "==============================================================================\n",
      "\n",
      "Warnings:\n",
      "[1] Standard Errors assume that the covariance matrix of the errors is correctly specified.\n"
     ]
    }
   ],
   "source": [
    "#CAPM Model for Exxon Mobil\n",
    "\n",
    "model6= sm.OLS(RP_xom,x)\n",
    "result6=model6.fit()\n",
    "print(result6.summary())"
   ]
  },
  {
   "cell_type": "markdown",
   "metadata": {},
   "source": [
    "### The Beta value of Exxon Mobil's Stock is 0.414. Therefore, we can say that the stock is DEFENSIVE"
   ]
  },
  {
   "cell_type": "markdown",
   "metadata": {},
   "source": [
    "## From the above analysis of the beta values of different value it is seen that Exxon Mobil has the lowest and most defensive beta value which is 0.4140. Whereas, IBM has the highest and most aggressive beta value which is 1.8820"
   ]
  },
  {
   "cell_type": "markdown",
   "metadata": {},
   "source": [
    "## C) The obtained alpha values are very close to Zero as stated by the Finance Theory. Thus, the theory seems to be correct as per the given datesets."
   ]
  },
  {
   "cell_type": "markdown",
   "metadata": {},
   "source": [
    "### Fitted Regression line of Microsoft across the scatter plot"
   ]
  },
  {
   "cell_type": "code",
   "execution_count": 37,
   "metadata": {},
   "outputs": [
    {
     "data": {
      "image/png": "[encoded data removed]",
      "text/plain": [
       "<Figure size 432x288 with 1 Axes>"
      ]
     },
     "metadata": {
      "needs_background": "light"
     },
     "output_type": "display_data"
    }
   ],
   "source": [
    "\n",
    "plt.scatter(RP_mkt, RP_msft)\n",
    "plt.plot(RP_mkt,result5.predict(x), color='orange')\n",
    "plt.xlabel(\"Market Portfolio\")\n",
    "plt.ylabel(\" Microsoft Portfolio\")\n",
    "plt.title(\"Regression Line for Microsoft\")\n",
    "plt.show()\n",
    "\n"
   ]
  },
  {
   "cell_type": "markdown",
   "metadata": {},
   "source": [
    "## Estimating CAPM Model for alpha=0"
   ]
  },
  {
   "cell_type": "code",
   "execution_count": 38,
   "metadata": {},
   "outputs": [],
   "source": [
    "x1= RP_mkt + np.zeros(132)"
   ]
  },
  {
   "cell_type": "code",
   "execution_count": 39,
   "metadata": {},
   "outputs": [
    {
     "name": "stdout",
     "output_type": "stream",
     "text": [
      "                                 OLS Regression Results                                \n",
      "=======================================================================================\n",
      "Dep. Variable:                      y   R-squared (uncentered):                   0.289\n",
      "Model:                            OLS   Adj. R-squared (uncentered):              0.283\n",
      "Method:                 Least Squares   F-statistic:                              53.14\n",
      "Date:                Sat, 07 Sep 2019   Prob (F-statistic):                    2.62e-11\n",
      "Time:                        14:32:14   Log-Likelihood:                          167.70\n",
      "No. Observations:                 132   AIC:                                     -333.4\n",
      "Df Residuals:                     131   BIC:                                     -330.5\n",
      "Df Model:                           1                                                  \n",
      "Covariance Type:            nonrobust                                                  \n",
      "==============================================================================\n",
      "                 coef    std err          t      P>|t|      [0.025      0.975]\n",
      "------------------------------------------------------------------------------\n",
      "x1             0.8979      0.123      7.290      0.000       0.654       1.142\n",
      "==============================================================================\n",
      "Omnibus:                       15.250   Durbin-Watson:                   2.426\n",
      "Prob(Omnibus):                  0.000   Jarque-Bera (JB):               25.332\n",
      "Skew:                           0.547   Prob(JB):                     3.16e-06\n",
      "Kurtosis:                       4.847   Cond. No.                         1.00\n",
      "==============================================================================\n",
      "\n",
      "Warnings:\n",
      "[1] Standard Errors assume that the covariance matrix of the errors is correctly specified.\n"
     ]
    }
   ],
   "source": [
    "#CAPM Model for Disney\n",
    "\n",
    "model11= sm.OLS(RP_dis,x1)\n",
    "result11=model11.fit()\n",
    "print(result11.summary())"
   ]
  },
  {
   "cell_type": "code",
   "execution_count": 40,
   "metadata": {},
   "outputs": [
    {
     "name": "stdout",
     "output_type": "stream",
     "text": [
      "                                 OLS Regression Results                                \n",
      "=======================================================================================\n",
      "Dep. Variable:                      y   R-squared (uncentered):                   0.389\n",
      "Model:                            OLS   Adj. R-squared (uncentered):              0.385\n",
      "Method:                 Least Squares   F-statistic:                              83.49\n",
      "Date:                Sat, 07 Sep 2019   Prob (F-statistic):                    1.04e-15\n",
      "Time:                        14:32:14   Log-Likelihood:                          197.31\n",
      "No. Observations:                 132   AIC:                                     -392.6\n",
      "Df Residuals:                     131   BIC:                                     -389.7\n",
      "Df Model:                           1                                                  \n",
      "Covariance Type:            nonrobust                                                  \n",
      "==============================================================================\n",
      "                 coef    std err          t      P>|t|      [0.025      0.975]\n",
      "------------------------------------------------------------------------------\n",
      "x1             0.8993      0.098      9.137      0.000       0.705       1.094\n",
      "==============================================================================\n",
      "Omnibus:                        3.287   Durbin-Watson:                   2.238\n",
      "Prob(Omnibus):                  0.193   Jarque-Bera (JB):                2.873\n",
      "Skew:                           0.238   Prob(JB):                        0.238\n",
      "Kurtosis:                       3.544   Cond. No.                         1.00\n",
      "==============================================================================\n",
      "\n",
      "Warnings:\n",
      "[1] Standard Errors assume that the covariance matrix of the errors is correctly specified.\n"
     ]
    }
   ],
   "source": [
    "#CAPM Model for GE\n",
    "\n",
    "model22= sm.OLS(RP_ge,x1)\n",
    "result22=model22.fit()\n",
    "print(result22.summary())"
   ]
  },
  {
   "cell_type": "code",
   "execution_count": 41,
   "metadata": {},
   "outputs": [
    {
     "name": "stdout",
     "output_type": "stream",
     "text": [
      "                                 OLS Regression Results                                \n",
      "=======================================================================================\n",
      "Dep. Variable:                      y   R-squared (uncentered):                   0.229\n",
      "Model:                            OLS   Adj. R-squared (uncentered):              0.223\n",
      "Method:                 Least Squares   F-statistic:                              38.84\n",
      "Date:                Sat, 07 Sep 2019   Prob (F-statistic):                    5.84e-09\n",
      "Time:                        14:32:14   Log-Likelihood:                          102.05\n",
      "No. Observations:                 132   AIC:                                     -202.1\n",
      "Df Residuals:                     131   BIC:                                     -199.2\n",
      "Df Model:                           1                                                  \n",
      "Covariance Type:            nonrobust                                                  \n",
      "==============================================================================\n",
      "                 coef    std err          t      P>|t|      [0.025      0.975]\n",
      "------------------------------------------------------------------------------\n",
      "x1             1.2622      0.203      6.232      0.000       0.862       1.663\n",
      "==============================================================================\n",
      "Omnibus:                        4.446   Durbin-Watson:                   2.041\n",
      "Prob(Omnibus):                  0.108   Jarque-Bera (JB):                5.004\n",
      "Skew:                          -0.187   Prob(JB):                       0.0819\n",
      "Kurtosis:                       3.878   Cond. No.                         1.00\n",
      "==============================================================================\n",
      "\n",
      "Warnings:\n",
      "[1] Standard Errors assume that the covariance matrix of the errors is correctly specified.\n"
     ]
    }
   ],
   "source": [
    "#CAPM Model for GM\n",
    "\n",
    "model33= sm.OLS(RP_gm,x1)\n",
    "result33=model33.fit()\n",
    "print(result33.summary())"
   ]
  },
  {
   "cell_type": "code",
   "execution_count": 42,
   "metadata": {},
   "outputs": [
    {
     "name": "stdout",
     "output_type": "stream",
     "text": [
      "                                 OLS Regression Results                                \n",
      "=======================================================================================\n",
      "Dep. Variable:                      y   R-squared (uncentered):                   0.403\n",
      "Model:                            OLS   Adj. R-squared (uncentered):              0.398\n",
      "Method:                 Least Squares   F-statistic:                              88.31\n",
      "Date:                Sat, 07 Sep 2019   Prob (F-statistic):                    2.38e-16\n",
      "Time:                        14:32:14   Log-Likelihood:                          164.29\n",
      "No. Observations:                 132   AIC:                                     -326.6\n",
      "Df Residuals:                     131   BIC:                                     -323.7\n",
      "Df Model:                           1                                                  \n",
      "Covariance Type:            nonrobust                                                  \n",
      "==============================================================================\n",
      "                 coef    std err          t      P>|t|      [0.025      0.975]\n",
      "------------------------------------------------------------------------------\n",
      "x1             1.1878      0.126      9.398      0.000       0.938       1.438\n",
      "==============================================================================\n",
      "Omnibus:                       19.736   Durbin-Watson:                   2.157\n",
      "Prob(Omnibus):                  0.000   Jarque-Bera (JB):               61.502\n",
      "Skew:                           0.439   Prob(JB):                     4.41e-14\n",
      "Kurtosis:                       6.227   Cond. No.                         1.00\n",
      "==============================================================================\n",
      "\n",
      "Warnings:\n",
      "[1] Standard Errors assume that the covariance matrix of the errors is correctly specified.\n"
     ]
    }
   ],
   "source": [
    "#CAPM Model for IBM\n",
    "\n",
    "model44= sm.OLS(RP_ibm,x1)\n",
    "result44=model44.fit()\n",
    "print(result44.summary())"
   ]
  },
  {
   "cell_type": "code",
   "execution_count": 43,
   "metadata": {},
   "outputs": [
    {
     "name": "stdout",
     "output_type": "stream",
     "text": [
      "                                 OLS Regression Results                                \n",
      "=======================================================================================\n",
      "Dep. Variable:                      y   R-squared (uncentered):                   0.340\n",
      "Model:                            OLS   Adj. R-squared (uncentered):              0.335\n",
      "Method:                 Least Squares   F-statistic:                              67.44\n",
      "Date:                Sat, 07 Sep 2019   Prob (F-statistic):                    1.81e-13\n",
      "Time:                        14:32:14   Log-Likelihood:                          132.71\n",
      "No. Observations:                 132   AIC:                                     -263.4\n",
      "Df Residuals:                     131   BIC:                                     -260.5\n",
      "Df Model:                           1                                                  \n",
      "Covariance Type:            nonrobust                                                  \n",
      "==============================================================================\n",
      "                 coef    std err          t      P>|t|      [0.025      0.975]\n",
      "------------------------------------------------------------------------------\n",
      "x1             1.3185      0.161      8.212      0.000       1.001       1.636\n",
      "==============================================================================\n",
      "Omnibus:                       16.074   Durbin-Watson:                   2.334\n",
      "Prob(Omnibus):                  0.000   Jarque-Bera (JB):               34.121\n",
      "Skew:                           0.473   Prob(JB):                     3.90e-08\n",
      "Kurtosis:                       5.304   Cond. No.                         1.00\n",
      "==============================================================================\n",
      "\n",
      "Warnings:\n",
      "[1] Standard Errors assume that the covariance matrix of the errors is correctly specified.\n"
     ]
    }
   ],
   "source": [
    "#CAPM Model for Microsoft\n",
    "\n",
    "model55= sm.OLS(RP_msft,x1)\n",
    "result55=model55.fit()\n",
    "print(result55.summary())"
   ]
  },
  {
   "cell_type": "code",
   "execution_count": 44,
   "metadata": {},
   "outputs": [
    {
     "name": "stdout",
     "output_type": "stream",
     "text": [
      "                                 OLS Regression Results                                \n",
      "=======================================================================================\n",
      "Dep. Variable:                      y   R-squared (uncentered):                   0.137\n",
      "Model:                            OLS   Adj. R-squared (uncentered):              0.131\n",
      "Method:                 Least Squares   F-statistic:                              20.87\n",
      "Date:                Sat, 07 Sep 2019   Prob (F-statistic):                    1.12e-05\n",
      "Time:                        14:32:15   Log-Likelihood:                          208.38\n",
      "No. Observations:                 132   AIC:                                     -414.8\n",
      "Df Residuals:                     131   BIC:                                     -411.9\n",
      "Df Model:                           1                                                  \n",
      "Covariance Type:            nonrobust                                                  \n",
      "==============================================================================\n",
      "                 coef    std err          t      P>|t|      [0.025      0.975]\n",
      "------------------------------------------------------------------------------\n",
      "x1             0.4134      0.091      4.568      0.000       0.234       0.592\n",
      "==============================================================================\n",
      "Omnibus:                       22.136   Durbin-Watson:                   2.290\n",
      "Prob(Omnibus):                  0.000   Jarque-Bera (JB):               40.789\n",
      "Skew:                           0.747   Prob(JB):                     1.39e-09\n",
      "Kurtosis:                       5.277   Cond. No.                         1.00\n",
      "==============================================================================\n",
      "\n",
      "Warnings:\n",
      "[1] Standard Errors assume that the covariance matrix of the errors is correctly specified.\n"
     ]
    }
   ],
   "source": [
    "#CAPM Model for Exxon-Mobil\n",
    "\n",
    "model66= sm.OLS(RP_xom,x1)\n",
    "result66=model66.fit()\n",
    "print(result66.summary())"
   ]
  },
  {
   "cell_type": "markdown",
   "metadata": {},
   "source": [
    "## Difference in beta values when alpha=1 and alpha=0"
   ]
  },
  {
   "cell_type": "code",
   "execution_count": 45,
   "metadata": {},
   "outputs": [
    {
     "name": "stdout",
     "output_type": "stream",
     "text": [
      " The Difference in beta value of Disney when alpha=0 is 8.118574049187366e-05\n",
      " The Difference in beta value of GE when alpha=0 is 8.242353869281072e-05\n",
      " The Difference in beta value of GM when alpha=0 is 0.0008158078392714874\n",
      " The Difference in beta value of IBM when alpha=0 is -0.00041328961773245965\n",
      " The Difference in beta value of Microsoft when alpha=0 is -0.0004306836658243274\n",
      " The Difference in beta value of Exxon-Mobil when alpha=0 is -0.0005565950793665619\n"
     ]
    }
   ],
   "source": [
    "diff1= result11.params[0]-result1.params[0]\n",
    "diff2= result22.params[0]-result2.params[0]\n",
    "diff3= result33.params[0]-result3.params[0]\n",
    "diff4= result44.params[0]-result4.params[0]\n",
    "diff5= result55.params[0]-result5.params[0]\n",
    "diff6= result66.params[0]-result6.params[0]\n",
    "\n",
    "print(\" The Difference in beta value of Disney when alpha=0 is\", diff1)\n",
    "print(\" The Difference in beta value of GE when alpha=0 is\", diff2)\n",
    "print(\" The Difference in beta value of GM when alpha=0 is\", diff3)\n",
    "print(\" The Difference in beta value of IBM when alpha=0 is\", diff4)\n",
    "print(\" The Difference in beta value of Microsoft when alpha=0 is\", diff5)\n",
    "print(\" The Difference in beta value of Exxon-Mobil when alpha=0 is\", diff6)"
   ]
  },
  {
   "cell_type": "markdown",
   "metadata": {},
   "source": [
    "## D) As we can observe from the results that there is a negligible difference in the beta values. "
   ]
  }
 ],
 "metadata": {
  "kernelspec": {
   "display_name": "Python 3",
   "language": "python",
   "name": "python3"
  },
  "language_info": {
   "codemirror_mode": {
    "name": "ipython",
    "version": 3
   },
   "file_extension": ".py",
   "mimetype": "text/x-python",
   "name": "python",
   "nbconvert_exporter": "python",
   "pygments_lexer": "ipython3",
   "version": "3.7.3"
  }
 },
 "nbformat": 4,
 "nbformat_minor": 2
}
